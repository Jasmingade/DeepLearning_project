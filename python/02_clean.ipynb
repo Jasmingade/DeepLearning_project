{
  "nbformat": 4,
  "nbformat_minor": 0,
  "metadata": {
    "colab": {
      "provenance": [],
      "authorship_tag": "ABX9TyMvZsXfH/6dGJrrbvfhE9NM",
      "include_colab_link": true
    },
    "kernelspec": {
      "name": "python3",
      "display_name": "Python 3"
    },
    "language_info": {
      "name": "python"
    }
  },
  "cells": [
    {
      "cell_type": "markdown",
      "metadata": {
        "id": "view-in-github",
        "colab_type": "text"
      },
      "source": [
        "<a href=\"https://colab.research.google.com/github/Jasmingade/DeepLearning_project/blob/main/python/02_clean.ipynb\" target=\"_parent\"><img src=\"https://colab.research.google.com/assets/colab-badge.svg\" alt=\"Open In Colab\"/></a>"
      ]
    },
    {
      "cell_type": "markdown",
      "source": [
        "\n",
        "**Deep Learning Project 29**\n",
        "# Prediction of protein isoforms using semi-supervised learning\n",
        "\n",
        "\n",
        "---\n"
      ],
      "metadata": {
        "id": "4mXSdbIM4Rth"
      }
    },
    {
      "cell_type": "code",
      "source": [
        "import pandas as pd"
      ],
      "metadata": {
        "id": "ApVVVq794u3L"
      },
      "execution_count": null,
      "outputs": []
    },
    {
      "cell_type": "markdown",
      "source": [
        "## Cleaning the data\n"
      ],
      "metadata": {
        "id": "0fKNRbvm42qn"
      }
    },
    {
      "cell_type": "code",
      "source": [
        "# File paths\n",
        "file_paths = {\n",
        "    'archs4': '/Users/jasmingadestovlbaek/Library/CloudStorage/OneDrive-DanmarksTekniskeUniversitet/E23/deep learning/Project/Raw_data/archs4_gene_expression_norm_transposed.tsv',\n",
        "    'gtex_gene': '/Users/jasmingadestovlbaek/Library/CloudStorage/OneDrive-DanmarksTekniskeUniversitet/E23/deep learning/Project/Raw_data/gtex_gene_expression_norm_transposed.tsv',\n",
        "    'gtex_isoform': '/Users/jasmingadestovlbaek/Library/CloudStorage/OneDrive-DanmarksTekniskeUniversitet/E23/deep learning/Project/Raw_data/gtex_isoform_expression_norm_transposed.tsv'\n",
        "}\n",
        "\n",
        "# Cleaning function - modify as needed for each file\n",
        "def clean_data(chunk):\n",
        "    # Replace this with your actual cleaning code\n",
        "    # E.g., drop missing values, filter, or transform data\n",
        "    return chunk.dropna()\n",
        "\n",
        "# Define chunk size\n",
        "chunk_size = 10000  # Adjust based on your available memory\n",
        "\n",
        "# Process each file\n",
        "for file_name, file_path in file_paths.items():\n",
        "    cleaned_data = pd.DataFrame()  # Empty DataFrame to hold cleaned data\n",
        "\n",
        "    # Reading the file in chunks\n",
        "    for chunk in pd.read_csv(file_path, chunksize=chunk_size, sep='\\t', compression='gzip'):\n",
        "        cleaned_chunk = clean_data(chunk)\n",
        "        cleaned_data = pd.concat([cleaned_data, cleaned_chunk], ignore_index=True)\n",
        "\n",
        "    # Save the cleaned data to a new file\n",
        "    cleaned_file_path = f'/content/drive/MyDrive/path_to_cleaned_data/cleaned_{file_name}.tsv'\n",
        "    cleaned_data.to_csv(cleaned_file_path, sep='\\t', index=False)\n",
        "    print(f'Cleaned data for {file_name} saved to {cleaned_file_path}')\n"
      ],
      "metadata": {
        "id": "rlBgKvyS46WN"
      },
      "execution_count": null,
      "outputs": []
    }
  ]
}